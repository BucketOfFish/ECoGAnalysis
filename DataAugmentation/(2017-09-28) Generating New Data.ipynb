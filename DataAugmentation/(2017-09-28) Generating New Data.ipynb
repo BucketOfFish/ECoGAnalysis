{
 "cells": [
  {
   "cell_type": "code",
   "execution_count": 2,
   "metadata": {},
   "outputs": [],
   "source": [
    "import h5py as h5\n",
    "data = h5.File(\"../../../Data/EC2_blocks_1_8_9_15_76_89_105_CV_HG_align_window_-0.5_to_0.79_file_nobaseline.h5\")"
   ]
  },
  {
   "cell_type": "code",
   "execution_count": 3,
   "metadata": {},
   "outputs": [],
   "source": [
    "import numpy as np\n",
    "x = data['Xhigh gamma'][:]\n",
    "y = data['y'][:]"
   ]
  },
  {
   "cell_type": "code",
   "execution_count": 3,
   "metadata": {},
   "outputs": [],
   "source": [
    "import random\n",
    "def generateMoreExamples(x_set, totalExamples):\n",
    "    n_original_examples = len(x_set)\n",
    "    n_examples = n_original_examples\n",
    "    new_examples = []\n",
    "    while n_examples < totalExamples:\n",
    "        # only use original examples to ensure we don't get closer and closer to the mean\n",
    "        i = random.randint(0,n_original_examples-1)\n",
    "        j = random.randint(0,n_original_examples-1)\n",
    "        if j==i: j = (j+1)%n_original_examples\n",
    "        mixing = random.uniform(0, 1)\n",
    "        new_example = list(x_set[i]*mixing + x_set[j]*(1-mixing))\n",
    "        new_examples.append(new_example)\n",
    "        n_examples += 1\n",
    "    return new_examples"
   ]
  },
  {
   "cell_type": "code",
   "execution_count": 4,
   "metadata": {},
   "outputs": [
    {
     "name": "stdout",
     "output_type": "stream",
     "text": [
      "0\n",
      "10\n",
      "20\n",
      "30\n",
      "40\n",
      "50\n",
      "Finished generating new examples.\n",
      "Finished appending x array.\n",
      "Finished appending y array.\n"
     ]
    }
   ],
   "source": [
    "x_plus = []\n",
    "y_plus = []\n",
    "for i in range(57):\n",
    "    if i%10==0: print i\n",
    "    indices = np.where(y==i)[0]\n",
    "    new_x = generateMoreExamples(x[indices], 500)\n",
    "    x_plus += new_x\n",
    "    y_plus += [i]*len(new_x)\n",
    "print \"Finished generating new examples.\"\n",
    "x = np.append(x, np.array(x_plus), 0)\n",
    "print \"Finished appending x array.\"\n",
    "y = np.append(y, np.array(y_plus), 0)\n",
    "print \"Finished appending y array.\""
   ]
  },
  {
   "cell_type": "code",
   "execution_count": 5,
   "metadata": {},
   "outputs": [],
   "source": [
    "from sklearn.utils import shuffle\n",
    "x, y = shuffle(x, y, random_state=0)"
   ]
  },
  {
   "cell_type": "code",
   "execution_count": 6,
   "metadata": {},
   "outputs": [],
   "source": [
    "new_data = h5.File(\"../../../Data/Expanded_ECoG.h5\", \"w\")\n",
    "new_data.create_dataset('Xhigh gamma', data=x)\n",
    "new_data.create_dataset('y', data=y)\n",
    "new_data.close()"
   ]
  },
  {
   "cell_type": "code",
   "execution_count": null,
   "metadata": {},
   "outputs": [],
   "source": []
  }
 ],
 "metadata": {
  "kernelspec": {
   "display_name": "Python 2",
   "language": "python",
   "name": "python2"
  },
  "language_info": {
   "codemirror_mode": {
    "name": "ipython",
    "version": 2
   },
   "file_extension": ".py",
   "mimetype": "text/x-python",
   "name": "python",
   "nbconvert_exporter": "python",
   "pygments_lexer": "ipython2",
   "version": "2.7.12"
  },
  "widgets": {
   "state": {},
   "version": "1.1.0"
  }
 },
 "nbformat": 4,
 "nbformat_minor": 1
}
